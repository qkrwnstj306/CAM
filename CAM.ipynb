{
 "cells": [
  {
   "cell_type": "code",
   "execution_count": 2,
   "id": "30272d19",
   "metadata": {},
   "outputs": [],
   "source": [
    "import torch\n",
    "import torch.nn as nn\n",
    "import torch.optim as optim\n",
    "\n",
    "import torchvision\n",
    "import torchvision.transforms as transforms\n",
    "\n",
    "import numpy as np\n",
    "import matplotlib.pyplot as plt\n",
    "import cv2"
   ]
  },
  {
   "cell_type": "code",
   "execution_count": 3,
   "id": "82d8625c",
   "metadata": {},
   "outputs": [
    {
     "name": "stdout",
     "output_type": "stream",
     "text": [
      "Files already downloaded and verified\n",
      "Files already downloaded and verified\n"
     ]
    }
   ],
   "source": [
    "transform = transforms.Compose(\n",
    "    [transforms.ToTensor(),\n",
    "     transforms.Normalize((0.5, 0.5, 0.5), (0.5, 0.5, 0.5))])\n",
    "\n",
    "batch_size = 4\n",
    "\n",
    "trainset = torchvision.datasets.CIFAR10(root='./data', train=True,\n",
    "                                        download=True, transform=transform)\n",
    "trainloader = torch.utils.data.DataLoader(trainset, batch_size=batch_size,\n",
    "                                          shuffle=True, num_workers=2)\n",
    "\n",
    "testset = torchvision.datasets.CIFAR10(root='./data', train=False,\n",
    "                                       download=True, transform=transform)\n",
    "testloader = torch.utils.data.DataLoader(testset, batch_size=batch_size,\n",
    "                                         shuffle=False, num_workers=2)\n",
    "\n",
    "classes = ('plane', 'car', 'bird', 'cat',\n",
    "           'deer', 'dog', 'frog', 'horse', 'ship', 'truck')"
   ]
  },
  {
   "cell_type": "code",
   "execution_count": 4,
   "id": "2029c08e",
   "metadata": {},
   "outputs": [
    {
     "data": {
      "image/png": "[encoded data removed]",
      "text/plain": [
       "<Figure size 640x480 with 1 Axes>"
      ]
     },
     "metadata": {},
     "output_type": "display_data"
    },
    {
     "name": "stdout",
     "output_type": "stream",
     "text": [
      "deer  truck cat   car  \n"
     ]
    }
   ],
   "source": [
    "# 이미지를 보여주기 위한 함수\n",
    "def imshow(img):\n",
    "    img = img / 2 + 0.5     # unnormalize\n",
    "    npimg = img.numpy()\n",
    "    plt.imshow(np.transpose(npimg, (1, 2, 0)))\n",
    "    plt.show()\n",
    "\n",
    "\n",
    "# 학습용 이미지를 무작위로 가져오기\n",
    "dataiter = iter(trainloader)\n",
    "images, labels = next(dataiter)\n",
    "\n",
    "# 이미지 보여주기\n",
    "imshow(torchvision.utils.make_grid(images))\n",
    "# 정답(label) 출력\n",
    "print(' '.join(f'{classes[labels[j]]:5s}' for j in range(batch_size)))"
   ]
  },
  {
   "cell_type": "code",
   "execution_count": 5,
   "id": "7a068df4",
   "metadata": {},
   "outputs": [],
   "source": [
    "class ConvLayer(nn.Module):\n",
    "    \n",
    "    def __init__(self, in_channels: int,out_channels: int, kernel_size: int = 3):\n",
    "        super().__init__()\n",
    "        \n",
    "        self.conv2d = nn.Conv2d(in_channels=in_channels, out_channels=out_channels, kernel_size=kernel_size, stride=1, padding=1)\n",
    "        self.activation = nn.ReLU()\n",
    "        self.maxpool2d = nn.MaxPool2d(kernel_size=2)\n",
    "        \n",
    "    def forward(self, x):\n",
    "        \n",
    "        return self.maxpool2d(self.activation(self.conv2d(x)))\n",
    "        \n",
    "class GlobalAvgPool2d(nn.Module):\n",
    "    def __init__(self):\n",
    "        super(GlobalAvgPool2d, self).__init__()\n",
    "\n",
    "    def forward(self, x):\n",
    "        # x: [batch_size, 64, 4, 4]\n",
    "        \n",
    "        # [batch_size, 64, 4, 4] -> [batch_size, 64]\n",
    "        return torch.mean(x, dim=(2, 3))\n",
    "        \n",
    "        \n",
    "class CNNModel(nn.Module):\n",
    "    \n",
    "    def __init__(self):\n",
    "        super().__init__()\n",
    "        \n",
    "        self.conv_1 = ConvLayer(in_channels=3, out_channels=32)\n",
    "        self.conv_2 = ConvLayer(in_channels=32, out_channels=64)\n",
    "        self.conv_3 = ConvLayer(in_channels=64, out_channels=64)\n",
    "        \n",
    "        self.global_pooling = GlobalAvgPool2d()\n",
    "        \n",
    "        self.dense = nn.Linear(64 ,10, bias=False)\n",
    "        \n",
    "        #self.softamx = nn.Softmax()\n",
    "        \n",
    "    def forward(self, x):\n",
    "        \n",
    "        # [batch_size, 3, 32, 32] -> [batch_size, 32, 16, 16]\n",
    "        x = self.conv_1(x)\n",
    "        \n",
    "        # [batch_size, 32, 16, 16] -> [batch_size, 64, 8, 8]\n",
    "        x = self.conv_2(x)\n",
    "        \n",
    "        # [batch_size, 64, 8, 8] -> [batch_size, 64 ,4, 4]\n",
    "        x = self.conv_3(x)\n",
    "        \n",
    "        # [batch_size, 64, 4, 4]\n",
    "        feature_map = x\n",
    "        \n",
    "        # [batch_size, 64, 4, 4] -> [batch_size, 64]\n",
    "        x = self.global_pooling(x)\n",
    "        \n",
    "        # [batch_size, 64] -> [batch_size, 10]\n",
    "        x = self.dense(x)\n",
    "        \n",
    "        #x = self.softmax(x)\n",
    "        \n",
    "        return x, feature_map"
   ]
  },
  {
   "cell_type": "code",
   "execution_count": 6,
   "id": "008c8a19",
   "metadata": {},
   "outputs": [],
   "source": [
    "model = CNNModel()"
   ]
  },
  {
   "cell_type": "code",
   "execution_count": 7,
   "id": "90f24a0b",
   "metadata": {},
   "outputs": [
    {
     "name": "stdout",
     "output_type": "stream",
     "text": [
      "device: cuda\n"
     ]
    },
    {
     "data": {
      "text/plain": [
       "CNNModel(\n",
       "  (conv_1): ConvLayer(\n",
       "    (conv2d): Conv2d(3, 32, kernel_size=(3, 3), stride=(1, 1), padding=(1, 1))\n",
       "    (activation): ReLU()\n",
       "    (maxpool2d): MaxPool2d(kernel_size=2, stride=2, padding=0, dilation=1, ceil_mode=False)\n",
       "  )\n",
       "  (conv_2): ConvLayer(\n",
       "    (conv2d): Conv2d(32, 64, kernel_size=(3, 3), stride=(1, 1), padding=(1, 1))\n",
       "    (activation): ReLU()\n",
       "    (maxpool2d): MaxPool2d(kernel_size=2, stride=2, padding=0, dilation=1, ceil_mode=False)\n",
       "  )\n",
       "  (conv_3): ConvLayer(\n",
       "    (conv2d): Conv2d(64, 64, kernel_size=(3, 3), stride=(1, 1), padding=(1, 1))\n",
       "    (activation): ReLU()\n",
       "    (maxpool2d): MaxPool2d(kernel_size=2, stride=2, padding=0, dilation=1, ceil_mode=False)\n",
       "  )\n",
       "  (global_pooling): GlobalAvgPool2d()\n",
       "  (dense): Linear(in_features=64, out_features=10, bias=False)\n",
       ")"
      ]
     },
     "execution_count": 7,
     "metadata": {},
     "output_type": "execute_result"
    }
   ],
   "source": [
    "device = \"cuda\" if torch.cuda.is_available() else \"cpu\"\n",
    "print(f\"device: {device}\")\n",
    "\n",
    "criterion = nn.CrossEntropyLoss()\n",
    "optimizer = optim.SGD(model.parameters(), lr=0.001, momentum=0.9)\n",
    "\n",
    "model.to(device)"
   ]
  },
  {
   "cell_type": "code",
   "execution_count": 9,
   "id": "cbe916bb",
   "metadata": {},
   "outputs": [
    {
     "name": "stdout",
     "output_type": "stream",
     "text": [
      "[1,  2000] loss: 2.189\n",
      "[1,  4000] loss: 1.982\n",
      "[1,  6000] loss: 1.807\n",
      "[1,  8000] loss: 1.728\n",
      "[1, 10000] loss: 1.667\n",
      "[1, 12000] loss: 1.613\n",
      "[2,  2000] loss: 1.561\n",
      "[2,  4000] loss: 1.517\n",
      "[2,  6000] loss: 1.480\n",
      "[2,  8000] loss: 1.423\n",
      "[2, 10000] loss: 1.375\n",
      "[2, 12000] loss: 1.365\n",
      "Finished Training\n"
     ]
    }
   ],
   "source": [
    "for epoch in range(2):   # 데이터셋을 수차례 반복합니다.\n",
    "\n",
    "    running_loss = 0.0\n",
    "    for i, data in enumerate(trainloader, 0):\n",
    "        # [inputs, labels]의 목록인 data로부터 입력을 받은 후;\n",
    "        inputs, labels = data\n",
    "        inputs, labels = inputs.to(device), labels.to(device)\n",
    "        \n",
    "        # 변화도(Gradient) 매개변수를 0으로 만들고\n",
    "        optimizer.zero_grad()\n",
    "\n",
    "        # 순전파 + 역전파 + 최적화를 한 후\n",
    "        prediction, feature_map = model(inputs)\n",
    "        loss = criterion(prediction, labels)\n",
    "        loss.backward()\n",
    "        optimizer.step()\n",
    "\n",
    "        # 통계를 출력합니다.\n",
    "        running_loss += loss.item()\n",
    "        if i % 2000 == 1999:    # print every 2000 mini-batches\n",
    "            print(f'[{epoch + 1}, {i + 1:5d}] loss: {running_loss / 2000:.3f}')\n",
    "            running_loss = 0.0\n",
    "\n",
    "print('Finished Training')"
   ]
  },
  {
   "cell_type": "code",
   "execution_count": 29,
   "id": "3c2a37cb",
   "metadata": {},
   "outputs": [
    {
     "name": "stdout",
     "output_type": "stream",
     "text": [
      "ground truth label: 2, predicted label: 0 (22.1046)%\n",
      "attention map size:  (64, 4, 4)\n"
     ]
    },
    {
     "name": "stderr",
     "output_type": "stream",
     "text": [
      "/tmp/ipykernel_1933313/1898833200.py:24: UserWarning: Implicit dimension choice for softmax has been deprecated. Change the call to include dim=X as an argument.\n",
      "  print(f'ground truth label: {labels[test_idx]}, predicted label: {class_index} ({nn.functional.softmax(prediction)[0][class_index] * 100:.4f})%')\n"
     ]
    }
   ],
   "source": [
    "# 학습용 이미지를 무작위로 가져오기\n",
    "dataiter = iter(trainloader)\n",
    "images, labels = next(dataiter)\n",
    "\n",
    "test_idx = 1\n",
    "\n",
    "test_image = images[test_idx].to(device)\n",
    "\n",
    "# feature_map: [1, 64, 4, 4]\n",
    "prediction, feature_map = model(test_image.unsqueeze(0))\n",
    "\n",
    "class_index = np.argmax(prediction.to(\"cpu\").detach().numpy(), axis = 1)[0]\n",
    "\n",
    "# [64, 4, 4]\n",
    "feature_map = feature_map.squeeze(0)\n",
    "\n",
    "# [10, 64] -> [64, 1, 1]\n",
    "dense_layer_weights = model.dense.weight[class_index].unsqueeze(1).unsqueeze(2)\n",
    "\n",
    "# [64, 4, 4]\n",
    "attention_map = feature_map * dense_layer_weights\n",
    "attention_map = attention_map.to(\"cpu\").detach().numpy()\n",
    "\n",
    "print(f'ground truth label: {labels[test_idx]}, predicted label: {class_index} ({nn.functional.softmax(prediction)[0][class_index] * 100:.4f})%')\n",
    "print('attention map size: ',np.shape(attention_map))"
   ]
  },
  {
   "cell_type": "code",
   "execution_count": 28,
   "id": "dca257fb",
   "metadata": {},
   "outputs": [
    {
     "name": "stderr",
     "output_type": "stream",
     "text": [
      "Clipping input data to the valid range for imshow with RGB data ([0..1] for floats or [0..255] for integers).\n"
     ]
    },
    {
     "name": "stdout",
     "output_type": "stream",
     "text": [
      "(4, 4)\n"
     ]
    },
    {
     "data": {
      "image/png": "[encoded data removed]",
      "text/plain": [
       "<Figure size 1500x1500 with 2 Axes>"
      ]
     },
     "metadata": {},
     "output_type": "display_data"
    }
   ],
   "source": [
    "# [64, 4, 4]\n",
    "attention_map = np.sum(attention_map, axis=0)\n",
    "print(np.shape(attention_map))\n",
    "attention_map = np.abs(attention_map)\n",
    "\n",
    "\n",
    "figure = plt.figure(figsize=(15,15))\n",
    "\n",
    "rows, cols = 1, 2\n",
    "\n",
    "figure.add_subplot(rows, cols, 1)\n",
    "img = test_image.permute(1,2,0)\n",
    "plt.title(\"Ground Truth Image\")\n",
    "plt.axis('off')\n",
    "plt.imshow(img.to(\"cpu\").detach().numpy())\n",
    "\n",
    "for i in range(2, rows*cols +1):\n",
    "    img = attention_map\n",
    "    img = cv2.resize(img, (32,32), interpolation = cv2.INTER_CUBIC)\n",
    "\n",
    "    figure.add_subplot(rows, cols, i)\n",
    "    plt.title(f\"node {class_index}\")\n",
    "    plt.axis('off')\n",
    "    plt.imshow(img)\n",
    "\n",
    "plt.show()"
   ]
  },
  {
   "cell_type": "code",
   "execution_count": null,
   "id": "a8aaa0f8",
   "metadata": {},
   "outputs": [],
   "source": []
  }
 ],
 "metadata": {
  "kernelspec": {
   "display_name": "stable_diffusion",
   "language": "python",
   "name": "stable_diffusion"
  },
  "language_info": {
   "codemirror_mode": {
    "name": "ipython",
    "version": 3
   },
   "file_extension": ".py",
   "mimetype": "text/x-python",
   "name": "python",
   "nbconvert_exporter": "python",
   "pygments_lexer": "ipython3",
   "version": "3.10.6"
  }
 },
 "nbformat": 4,
 "nbformat_minor": 5
}
